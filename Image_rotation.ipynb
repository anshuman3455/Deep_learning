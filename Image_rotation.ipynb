{
 "cells": [
  {
   "cell_type": "code",
   "execution_count": 2,
   "id": "60293089",
   "metadata": {},
   "outputs": [],
   "source": [
    "import tensorflow as tf\n",
    "from tensorflow import keras \n",
    "from keras.preprocessing.image import ImageDataGenerator\n",
    "from keras.preprocessing import image\n",
    "from tensorflow.keras.preprocessing.image import load_img , img_to_array"
   ]
  },
  {
   "cell_type": "code",
   "execution_count": 4,
   "id": "f96bdc41",
   "metadata": {},
   "outputs": [],
   "source": [
    "datagen = ImageDataGenerator(\n",
    "rotation_range =40,\n",
    "width_shift_range = 40 ,\n",
    "height_shift_range=0.2,\n",
    "shear_range = 0.2, \n",
    "zoom_range =0.2,\n",
    "horizontal_flip = True,\n",
    "fill_mode = 'nearest')"
   ]
  },
  {
   "cell_type": "code",
   "execution_count": 17,
   "id": "780205cb",
   "metadata": {},
   "outputs": [],
   "source": [
    "img = load_img(\"C:\\\\Users\\\\user\\\\Desktop\\\\Dog\\\\dog.jpg\")\n",
    "x =img_to_array(img)"
   ]
  },
  {
   "cell_type": "code",
   "execution_count": 18,
   "id": "035b4a1a",
   "metadata": {},
   "outputs": [],
   "source": [
    "x =x.reshape((1,)+ x.shape)"
   ]
  },
  {
   "cell_type": "code",
   "execution_count": 19,
   "id": "c1f6b55e",
   "metadata": {},
   "outputs": [],
   "source": [
    "i = 0 \n",
    "for batch in datagen.flow(x,batch_size =1, save_to_dir =\"C:\\\\Users\\\\user\\\\Desktop\\\\Dog\" , save_prefix = 'dog',save_format = 'jpeg' ):\n",
    "    i +=1 \n",
    "    if i >10:\n",
    "        break"
   ]
  },
  {
   "cell_type": "code",
   "execution_count": null,
   "id": "6889b793",
   "metadata": {},
   "outputs": [],
   "source": []
  }
 ],
 "metadata": {
  "kernelspec": {
   "display_name": "Python 3 (ipykernel)",
   "language": "python",
   "name": "python3"
  },
  "language_info": {
   "codemirror_mode": {
    "name": "ipython",
    "version": 3
   },
   "file_extension": ".py",
   "mimetype": "text/x-python",
   "name": "python",
   "nbconvert_exporter": "python",
   "pygments_lexer": "ipython3",
   "version": "3.10.9"
  }
 },
 "nbformat": 4,
 "nbformat_minor": 5
}
